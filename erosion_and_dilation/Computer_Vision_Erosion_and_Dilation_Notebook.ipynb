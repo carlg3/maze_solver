{
  "cells": [
    {
      "cell_type": "markdown",
      "metadata": {
        "id": "3IlEta1vk6QR"
      },
      "source": [
        "## Intro"
      ]
    },
    {
      "cell_type": "code",
      "execution_count": 73,
      "metadata": {
        "id": "thOCvwohDqxQ"
      },
      "outputs": [],
      "source": [
        "import cv2\n",
        "import numpy as np\n",
        "import matplotlib\n",
        "import matplotlib.pyplot as plt\n",
        "\n",
        "matplotlib.rcParams['figure.figsize'] = (6.0, 6.0)\n",
        "matplotlib.rcParams['image.cmap'] = 'gray'"
      ]
    },
    {
      "cell_type": "code",
      "execution_count": 74,
      "metadata": {
        "colab": {
          "base_uri": "https://localhost:8080/",
          "height": 451
        },
        "id": "jTCYvhZ9Ks6H",
        "outputId": "a3ea434c-26de-44d1-8b41-517f1f5018f9"
      },
      "outputs": [
        {
          "name": "stdout",
          "output_type": "stream",
          "text": [
            "Matrice originale:\n",
            "\n",
            "[[0 0 0 0 0 0 0 0 0 0 0 0 0 0 0]\n",
            " [0 1 1 1 1 0 0 0 0 0 1 1 1 1 0]\n",
            " [0 1 1 1 1 1 1 1 1 1 1 1 1 1 0]\n",
            " [0 1 1 1 1 1 1 1 1 1 1 1 1 1 0]\n",
            " [0 1 1 1 1 1 1 1 1 1 1 1 1 1 0]\n",
            " [0 1 1 1 1 0 0 0 0 0 1 1 1 1 0]\n",
            " [0 0 0 0 0 0 0 0 0 0 0 0 0 0 0]]\n"
          ]
        },
        {
          "data": {
            "text/plain": [
              "<matplotlib.image.AxesImage at 0x7e69462e5bd0>"
            ]
          },
          "execution_count": 74,
          "metadata": {},
          "output_type": "execute_result"
        },
        {
          "data": {
            "image/png": "[encoded data removed]",
            "text/plain": [
              "<Figure size 600x600 with 1 Axes>"
            ]
          },
          "metadata": {},
          "output_type": "display_data"
        }
      ],
      "source": [
        "m = np.array([[0, 0, 0, 0, 0, 0, 0, 0, 0, 0, 0, 0, 0, 0, 0],\n",
        "       [0, 1, 1, 1, 1, 0, 0, 0, 0, 0, 1, 1, 1, 1, 0],\n",
        "       [0, 1, 1, 1, 1, 1, 1, 1, 1, 1, 1, 1, 1, 1, 0],\n",
        "       [0, 1, 1, 1, 1, 1, 1, 1, 1, 1, 1, 1, 1, 1, 0],\n",
        "       [0, 1, 1, 1, 1, 1, 1, 1, 1, 1, 1, 1, 1, 1, 0],\n",
        "       [0, 1, 1, 1, 1, 0, 0, 0, 0, 0, 1, 1, 1, 1, 0],\n",
        "       [0, 0, 0, 0, 0, 0, 0, 0, 0, 0, 0, 0, 0, 0, 0]])\n",
        "\n",
        "m = m.astype(np.uint8)\n",
        "\n",
        "print(\"Matrice originale:\\n\")\n",
        "print(m)\n",
        "plt.imshow(m)"
      ]
    },
    {
      "cell_type": "markdown",
      "metadata": {
        "id": "ye9KDNxDRjK9"
      },
      "source": [
        "## Dilation"
      ]
    },
    {
      "cell_type": "markdown",
      "metadata": {
        "id": "HEaxvCs9RsWk"
      },
      "source": [
        "### Output atteso"
      ]
    },
    {
      "cell_type": "code",
      "execution_count": 76,
      "metadata": {
        "id": "zr48sVCsOj6S"
      },
      "outputs": [],
      "source": [
        "kernel = cv2.getStructuringElement(cv2.MORPH_ELLIPSE, (3,3))"
      ]
    },
    {
      "cell_type": "code",
      "execution_count": 77,
      "metadata": {
        "id": "M5DVattJD2S6"
      },
      "outputs": [],
      "source": [
        "dilate_im_exp = cv2.dilate(m, kernel, iterations=1)"
      ]
    },
    {
      "cell_type": "markdown",
      "metadata": {
        "id": "oMzLeyqcRvlM"
      },
      "source": [
        "### Output sperimentale"
      ]
    },
    {
      "cell_type": "code",
      "execution_count": 78,
      "metadata": {
        "id": "7CUVR1EHtWLp"
      },
      "outputs": [],
      "source": [
        "def dilation_(image: np.ndarray, kernel: np.ndarray, iterations: int = 1) -> np.ndarray:\n",
        "    \"\"\"\n",
        "    Args:\n",
        "        image (np.ndarray): Immagine binaria di input.\n",
        "        kernel (np.ndarray): Elemento strutturale per la dilatazione.\n",
        "        iterations (int): Numero di iterazioni della dilatazione.\n",
        "\n",
        "    Returns:\n",
        "        np.ndarray: Immagine dilatata.\n",
        "    \"\"\"\n",
        "\n",
        "    kernel = kernel.astype(np.uint8)\n",
        "\n",
        "    result = image.copy()\n",
        "    height, width = image.shape\n",
        "\n",
        "    k_height, k_width = kernel.shape\n",
        "    pad_h, pad_w = k_height // 2, k_width // 2\n",
        "\n",
        "    for _ in range(iterations):\n",
        "        padded = np.pad(result, ((pad_h, pad_h), (pad_w, pad_w)), mode='constant', constant_values=0)\n",
        "        output = result.copy()\n",
        "\n",
        "        for i in range(height):\n",
        "            for j in range(width):\n",
        "                if np.any(padded[i:i+k_height, j:j+k_width] & kernel):\n",
        "                    output[i, j] = 1\n",
        "\n",
        "        result = output\n",
        "\n",
        "    return result"
      ]
    },
    {
      "cell_type": "code",
      "execution_count": 79,
      "metadata": {
        "id": "rXOACOabZNo6"
      },
      "outputs": [],
      "source": [
        "kernel = cv2.getStructuringElement(cv2.MORPH_ELLIPSE, (3,3))"
      ]
    },
    {
      "cell_type": "code",
      "execution_count": 80,
      "metadata": {
        "id": "b1t_TY4rENOv"
      },
      "outputs": [],
      "source": [
        "dilate_im_ = dilation_(m, kernel)"
      ]
    },
    {
      "cell_type": "code",
      "execution_count": 81,
      "metadata": {
        "colab": {
          "base_uri": "https://localhost:8080/",
          "height": 451
        },
        "id": "BrKucvC4s0lA",
        "outputId": "c2e3e834-7cd2-4426-a912-446b1d048072"
      },
      "outputs": [
        {
          "name": "stdout",
          "output_type": "stream",
          "text": [
            "Matrice attesa post-dilate:\n",
            "\n",
            "[[0 1 1 1 1 0 0 0 0 0 1 1 1 1 0]\n",
            " [1 1 1 1 1 1 1 1 1 1 1 1 1 1 1]\n",
            " [1 1 1 1 1 1 1 1 1 1 1 1 1 1 1]\n",
            " [1 1 1 1 1 1 1 1 1 1 1 1 1 1 1]\n",
            " [1 1 1 1 1 1 1 1 1 1 1 1 1 1 1]\n",
            " [1 1 1 1 1 1 1 1 1 1 1 1 1 1 1]\n",
            " [0 1 1 1 1 0 0 0 0 0 1 1 1 1 0]]\n"
          ]
        },
        {
          "data": {
            "text/plain": [
              "<matplotlib.image.AxesImage at 0x7e6945d34c10>"
            ]
          },
          "execution_count": 81,
          "metadata": {},
          "output_type": "execute_result"
        },
        {
          "data": {
            "image/png": "[encoded data removed]",
            "text/plain": [
              "<Figure size 600x600 with 1 Axes>"
            ]
          },
          "metadata": {},
          "output_type": "display_data"
        }
      ],
      "source": [
        "print(\"Matrice attesa post-dilate:\\n\")\n",
        "print(dilate_im_exp)\n",
        "plt.imshow(dilate_im_exp)"
      ]
    },
    {
      "cell_type": "code",
      "execution_count": 82,
      "metadata": {
        "colab": {
          "base_uri": "https://localhost:8080/",
          "height": 451
        },
        "id": "zO8WmoCOs03-",
        "outputId": "8c428122-56bd-469a-c0ed-747ba631790c"
      },
      "outputs": [
        {
          "name": "stdout",
          "output_type": "stream",
          "text": [
            "Matrice ottenuta post-dilate implementata:\n",
            "\n",
            "[[0 1 1 1 1 0 0 0 0 0 1 1 1 1 0]\n",
            " [1 1 1 1 1 1 1 1 1 1 1 1 1 1 1]\n",
            " [1 1 1 1 1 1 1 1 1 1 1 1 1 1 1]\n",
            " [1 1 1 1 1 1 1 1 1 1 1 1 1 1 1]\n",
            " [1 1 1 1 1 1 1 1 1 1 1 1 1 1 1]\n",
            " [1 1 1 1 1 1 1 1 1 1 1 1 1 1 1]\n",
            " [0 1 1 1 1 0 0 0 0 0 1 1 1 1 0]]\n"
          ]
        },
        {
          "data": {
            "text/plain": [
              "<matplotlib.image.AxesImage at 0x7e6945d552d0>"
            ]
          },
          "execution_count": 82,
          "metadata": {},
          "output_type": "execute_result"
        },
        {
          "data": {
            "image/png": "[encoded data removed]",
            "text/plain": [
              "<Figure size 600x600 with 1 Axes>"
            ]
          },
          "metadata": {},
          "output_type": "display_data"
        }
      ],
      "source": [
        "print(\"Matrice ottenuta post-dilate implementata:\\n\")\n",
        "print(dilate_im_)\n",
        "plt.imshow(dilate_im_)"
      ]
    },
    {
      "cell_type": "markdown",
      "metadata": {
        "id": "dmoooMV0R03w"
      },
      "source": [
        "## Erosion"
      ]
    },
    {
      "cell_type": "markdown",
      "metadata": {
        "id": "oM5YRQffR4Sh"
      },
      "source": [
        "### Output atteso"
      ]
    },
    {
      "cell_type": "code",
      "execution_count": null,
      "metadata": {
        "id": "8hyzyFCKERmF"
      },
      "outputs": [],
      "source": [
        "eroded_im_exp = cv2.erode(m, kernel)"
      ]
    },
    {
      "cell_type": "markdown",
      "metadata": {
        "id": "X7G71IMWR6gi"
      },
      "source": [
        "### Output sperimentale"
      ]
    },
    {
      "cell_type": "code",
      "execution_count": 84,
      "metadata": {
        "id": "hgdWF9c5YX-2"
      },
      "outputs": [],
      "source": [
        "def erosion_(image: np.ndarray, kernel: np.ndarray, iterations: int = 1) -> np.ndarray:\n",
        "    \"\"\"\n",
        "    Args:\n",
        "        image (np.ndarray): Immagine binaria di input.\n",
        "        kernel (np.ndarray): Elemento strutturale per l'erosione.\n",
        "        iterations (int): Numero di iterazioni dell'erosione.\n",
        "\n",
        "    Returns:\n",
        "        np.ndarray: Immagine erosa.\n",
        "    \"\"\"\n",
        "\n",
        "    kernel = kernel.astype(np.uint8)\n",
        "    result = image.copy()\n",
        "    height, width = image.shape\n",
        "\n",
        "    k_height, k_width = kernel.shape\n",
        "    pad_h, pad_w = k_height // 2, k_width // 2\n",
        "\n",
        "    for _ in range(iterations):\n",
        "        padded = np.pad(result, ((pad_h, pad_h), (pad_w, pad_w)), mode='constant', constant_values=1)\n",
        "        output = result.copy()\n",
        "\n",
        "        for i in range(height):\n",
        "            for j in range(width):\n",
        "                region = padded[i:i+k_height, j:j+k_width]\n",
        "                if np.array_equal(region * kernel, kernel):\n",
        "                    output[i, j] = 1\n",
        "                else:\n",
        "                    output[i, j] = 0\n",
        "\n",
        "        result = output\n",
        "\n",
        "    return result"
      ]
    },
    {
      "cell_type": "code",
      "execution_count": 85,
      "metadata": {
        "id": "EMNh5fzKbCIu"
      },
      "outputs": [],
      "source": [
        "eroded_im_ = erosion_(m, kernel)"
      ]
    },
    {
      "cell_type": "code",
      "execution_count": 86,
      "metadata": {
        "colab": {
          "base_uri": "https://localhost:8080/",
          "height": 451
        },
        "id": "DAQglhpFsi2i",
        "outputId": "7292012f-6783-4a1e-a99e-8cefb8ddbed2"
      },
      "outputs": [
        {
          "name": "stdout",
          "output_type": "stream",
          "text": [
            "Matrice attesa post-erode:\n",
            "\n",
            "[[0 0 0 0 0 0 0 0 0 0 0 0 0 0 0]\n",
            " [0 0 0 0 0 0 0 0 0 0 0 0 0 0 0]\n",
            " [0 0 1 1 1 0 0 0 0 0 1 1 1 0 0]\n",
            " [0 0 1 1 1 1 1 1 1 1 1 1 1 0 0]\n",
            " [0 0 1 1 1 0 0 0 0 0 1 1 1 0 0]\n",
            " [0 0 0 0 0 0 0 0 0 0 0 0 0 0 0]\n",
            " [0 0 0 0 0 0 0 0 0 0 0 0 0 0 0]]\n"
          ]
        },
        {
          "data": {
            "text/plain": [
              "<matplotlib.image.AxesImage at 0x7e6945bfd2d0>"
            ]
          },
          "execution_count": 86,
          "metadata": {},
          "output_type": "execute_result"
        },
        {
          "data": {
            "image/png": "[encoded data removed]",
            "text/plain": [
              "<Figure size 600x600 with 1 Axes>"
            ]
          },
          "metadata": {},
          "output_type": "display_data"
        }
      ],
      "source": [
        "print(\"Matrice attesa post-erode:\\n\")\n",
        "print(eroded_im_exp)\n",
        "plt.imshow(eroded_im_exp)"
      ]
    },
    {
      "cell_type": "code",
      "execution_count": 87,
      "metadata": {
        "colab": {
          "base_uri": "https://localhost:8080/",
          "height": 451
        },
        "id": "qp_uAiPesoOl",
        "outputId": "63421ac1-81dd-4dd8-d5d3-57eb87d23135"
      },
      "outputs": [
        {
          "name": "stdout",
          "output_type": "stream",
          "text": [
            "Matrice ottenuta post-erode implementata:\n",
            "\n",
            "[[0 0 0 0 0 0 0 0 0 0 0 0 0 0 0]\n",
            " [0 0 0 0 0 0 0 0 0 0 0 0 0 0 0]\n",
            " [0 0 1 1 1 0 0 0 0 0 1 1 1 0 0]\n",
            " [0 0 1 1 1 1 1 1 1 1 1 1 1 0 0]\n",
            " [0 0 1 1 1 0 0 0 0 0 1 1 1 0 0]\n",
            " [0 0 0 0 0 0 0 0 0 0 0 0 0 0 0]\n",
            " [0 0 0 0 0 0 0 0 0 0 0 0 0 0 0]]\n"
          ]
        },
        {
          "data": {
            "text/plain": [
              "<matplotlib.image.AxesImage at 0x7e6945c7d2d0>"
            ]
          },
          "execution_count": 87,
          "metadata": {},
          "output_type": "execute_result"
        },
        {
          "data": {
            "image/png": "[encoded data removed]",
            "text/plain": [
              "<Figure size 600x600 with 1 Axes>"
            ]
          },
          "metadata": {},
          "output_type": "display_data"
        }
      ],
      "source": [
        "print(\"Matrice ottenuta post-erode implementata:\\n\")\n",
        "print(eroded_im_)\n",
        "plt.imshow(eroded_im_)"
      ]
    },
    {
      "cell_type": "markdown",
      "metadata": {
        "id": "FbqjaH27-_f1"
      },
      "source": [
        "## Test"
      ]
    },
    {
      "cell_type": "code",
      "execution_count": null,
      "metadata": {
        "id": "ydM6LtNPdIIL"
      },
      "outputs": [],
      "source": [
        "# @title\n",
        "# # Leggo immagine\n",
        "# im = cv2.imread('/content/download.jpg', cv2.IMREAD_GRAYSCALE)\n",
        "\n",
        "# print(\"Immagine originale:\\n\")\n",
        "# print(m)\n",
        "# plt.imshow(im)\n",
        "\n",
        "# # Calcola l'istogramma\n",
        "# hist = cv2.calcHist([im], [0], None, [255], [0, 255])\n",
        "\n",
        "# # Visualizza l'immagine e il suo istogramma\n",
        "# plt.figure(figsize=(12, 6))\n",
        "\n",
        "# # Mostra l'immagine originale\n",
        "# plt.subplot(1, 2, 1)\n",
        "# plt.title('Immagine in Scala di Grigi')\n",
        "# plt.imshow(im, cmap='gray')\n",
        "# plt.axis('off')\n",
        "\n",
        "# # Mostra l'istogramma\n",
        "# plt.subplot(1, 2, 2)\n",
        "# plt.title('Istogramma')\n",
        "# plt.plot(hist, color='black')\n",
        "# plt.xlim([0, 255])\n",
        "# plt.xlabel('Intensità')\n",
        "# plt.ylabel('Numero di Pixel')\n",
        "\n",
        "# plt.show()\n",
        "\n",
        "# def show(im, img, tipo):\n",
        "#     # Visualizza l'immagine originale e l'immagine\n",
        "#     plt.figure(figsize=(12, 6))\n",
        "\n",
        "#     # Mostra l'immagine originale\n",
        "#     plt.subplot(1, 2, 1)\n",
        "#     plt.title('Immagine Originale')\n",
        "#     plt.imshow(im)\n",
        "#     plt.axis('off')\n",
        "\n",
        "#     # Mostra l'immagine\n",
        "#     plt.subplot(1, 2, 2)\n",
        "#     plt.title(f'Immagine {tipo}')\n",
        "#     plt.imshow(img)\n",
        "#     plt.axis('off')\n",
        "\n",
        "#     plt.show()\n",
        "\n",
        "# # Applica dilation\n",
        "# dilated_img = dilation_improved(im, kernel)\n",
        "# show(im, dilated_img, \"dilation_\")"
      ]
    }
  ],
  "metadata": {
    "colab": {
      "collapsed_sections": [
        "FbqjaH27-_f1"
      ],
      "provenance": []
    },
    "kernelspec": {
      "display_name": "Python 3",
      "name": "python3"
    },
    "language_info": {
      "name": "python"
    }
  },
  "nbformat": 4,
  "nbformat_minor": 0
}
